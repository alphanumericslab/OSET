{
 "cells": [
  {
   "cell_type": "markdown",
   "id": "644889a1-1609-4654-8280-af3a8e24d9bc",
   "metadata": {},
   "source": [
    "# Script for Merging JSON Files of Feature Extraction Algorithm Outputs on the Same Data"
   ]
  },
  {
   "cell_type": "markdown",
   "id": "bd23010c-3c3f-4d8d-8259-609c21b1cf7e",
   "metadata": {},
   "source": [
    "### Date: Agu 15, 2024\n",
    "### Location: Emory University, Georgia, USA\n",
    "### By: Seyedeh Somayyeh Mousavi\n",
    "### Email: bmemousavi@gmail.com"
   ]
  },
  {
   "cell_type": "code",
   "execution_count": 1,
   "id": "ba889294-cb3a-4abb-9f7f-59b676961187",
   "metadata": {},
   "outputs": [],
   "source": [
    "import json\n",
    "import glob\n",
    "import os"
   ]
  },
  {
   "cell_type": "markdown",
   "id": "3034cf39-bbb9-4d29-8adc-daa7c2c95ba9",
   "metadata": {},
   "source": [
    "## Part 1: Setup and Initialization (Modify)"
   ]
  },
  {
   "cell_type": "code",
   "execution_count": 2,
   "id": "aef0be2f-0cea-47ba-b105-c49825a8664b",
   "metadata": {},
   "outputs": [],
   "source": [
    "# Path containing the json file\n",
    "Data_Input_Path = 'results'\n",
    "\n",
    "# Path where the merged json file will be saved\n",
    "Data_Output_Path = 'results/final'\n",
    "\n",
    "# Name of the output file\n",
    "Desired_Output_File = 'merged_results.json'"
   ]
  },
  {
   "cell_type": "markdown",
   "id": "a5981abc-db83-43de-9a15-c957ff07a2e3",
   "metadata": {},
   "source": [
    "## Part 2: Define functions to load JSON files and merge them (Don't Change)"
   ]
  },
  {
   "cell_type": "code",
   "execution_count": 3,
   "id": "9f446e31-28ec-4c30-9663-b2013355e814",
   "metadata": {},
   "outputs": [],
   "source": [
    "# Function to load multiple JSON files from a directory\n",
    "def load_json_files(directory):\n",
    "    json_files = glob.glob(f'{directory}/*.json')\n",
    "    json_data = []\n",
    "    \n",
    "    for file in json_files:\n",
    "        with open(file, 'r') as f:\n",
    "            json_data.append(json.load(f))\n",
    "    \n",
    "    return json_data\n",
    "\n",
    "# Function to merge multiple JSON dictionaries\n",
    "def merge_json_files(json_data):\n",
    "    merged_json = {}\n",
    "    \n",
    "    # Create a dictionary for quick lookup based on 'name' and 'md5chsum'\n",
    "    lookup = {}\n",
    "    \n",
    "    for i, json_file in enumerate(json_data):\n",
    "        for rec_key, file_data in json_file.items():\n",
    "            print(file_data)\n",
    "            print(rec_key)\n",
    "            key = (file_data['name'], file_data['md5chsum'])\n",
    "            \n",
    "            if key not in lookup:\n",
    "                lookup[key] = {\n",
    "                    'name': file_data['name'],\n",
    "                    'rel_path': file_data['rel_path'],\n",
    "                    'md5chsum': file_data['md5chsum'],\n",
    "                    'sampling_freq': file_data['sampling_freq'],\n",
    "                    'mains_freq': file_data['mains_freq'],\n",
    "                    'num_ch': file_data['num_ch'],\n",
    "                    'methods': {}\n",
    "                }\n",
    "            \n",
    "            # Add methods from the current file\n",
    "            lookup[key]['methods'][f'file_{i + 1}'] = file_data['methods']\n",
    "    \n",
    "    # Populate merged_json with unique entries\n",
    "    for idx, (key, value) in enumerate(lookup.items()):\n",
    "        merged_json[f'record_{idx + 1}'] = value\n",
    "    \n",
    "    return merged_json"
   ]
  },
  {
   "cell_type": "markdown",
   "id": "05261827-1f3e-40a8-ae05-0a3c0187644e",
   "metadata": {},
   "source": [
    "## Part 3: Run the script (Don't Change)"
   ]
  },
  {
   "cell_type": "code",
   "execution_count": 4,
   "id": "976a23e7-8aae-4d2b-9138-f567ff4c8ce6",
   "metadata": {},
   "outputs": [
    {
     "name": "stderr",
     "output_type": "stream",
     "text": [
      "IOPub data rate exceeded.\n",
      "The Jupyter server will temporarily stop sending output\n",
      "to the client in order to avoid crashing it.\n",
      "To change this limit, set the config variable\n",
      "`--ServerApp.iopub_data_rate_limit`.\n",
      "\n",
      "Current values:\n",
      "ServerApp.iopub_data_rate_limit=1000000.0 (bytes/sec)\n",
      "ServerApp.rate_limit_window=3.0 (secs)\n",
      "\n"
     ]
    },
    {
     "name": "stdout",
     "output_type": "stream",
     "text": [
      "Done\n"
     ]
    }
   ],
   "source": [
    "# Load JSON files from the input path\n",
    "json_data = load_json_files(Data_Input_Path)\n",
    "\n",
    "# Merge the JSON files\n",
    "merged_json = merge_json_files(json_data)\n",
    "\n",
    "# Define the directory and file name\n",
    "output_path = os.path.join(Data_Output_Path, Desired_Output_File)\n",
    "\n",
    "# Save the merged JSON to a file\n",
    "with open(output_path, 'w') as outfile:\n",
    "    json.dump(merged_json, outfile, indent=4)\n",
    "\n",
    "print(\"Done\")"
   ]
  }
 ],
 "metadata": {
  "kernelspec": {
   "display_name": "Python 3 (ipykernel)",
   "language": "python",
   "name": "python3"
  },
  "language_info": {
   "codemirror_mode": {
    "name": "ipython",
    "version": 3
   },
   "file_extension": ".py",
   "mimetype": "text/x-python",
   "name": "python",
   "nbconvert_exporter": "python",
   "pygments_lexer": "ipython3",
   "version": "3.11.5"
  }
 },
 "nbformat": 4,
 "nbformat_minor": 5
}
