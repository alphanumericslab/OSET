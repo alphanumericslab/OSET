{
 "cells": [
  {
   "cell_type": "code",
   "execution_count": 1,
   "metadata": {
    "is_executing": true
   },
   "outputs": [],
   "source": [
    "import scipy.io\n",
    "import numpy as np\n",
    "import matplotlib.pyplot as plt\n",
    "from oset.ecg.peak_detection.peak_detection import peak_detection_modified_pan_tompkins"
   ]
  },
  {
   "cell_type": "code",
   "execution_count": 2,
   "metadata": {
    "collapsed": false,
    "jupyter": {
     "outputs_hidden": false
    }
   },
   "outputs": [
    {
     "ename": "ValueError",
     "evalue": "negative dimensions are not allowed",
     "output_type": "error",
     "traceback": [
      "\u001b[0;31m---------------------------------------------------------------------------\u001b[0m",
      "\u001b[0;31mValueError\u001b[0m                                Traceback (most recent call last)",
      "Cell \u001b[0;32mIn[2], line 5\u001b[0m\n\u001b[1;32m      3\u001b[0m fs \u001b[38;5;241m=\u001b[39m \u001b[38;5;241m1000\u001b[39m\n\u001b[1;32m      4\u001b[0m t \u001b[38;5;241m=\u001b[39m np\u001b[38;5;241m.\u001b[39marange(\u001b[38;5;28mlen\u001b[39m(mat)) \u001b[38;5;241m/\u001b[39m fs\n\u001b[0;32m----> 5\u001b[0m peaks\u001b[38;5;241m=\u001b[39m\u001b[43mpeak_detection_modified_pan_tompkins\u001b[49m\u001b[43m(\u001b[49m\u001b[43mmat\u001b[49m\u001b[43m,\u001b[49m\u001b[43m \u001b[49m\u001b[43mfs\u001b[49m\u001b[43m,\u001b[49m\u001b[43m \u001b[49m\u001b[38;5;241;43m0\u001b[39;49m\u001b[43m)\u001b[49m[\u001b[38;5;241m0\u001b[39m]\n",
      "File \u001b[0;32m~/Applications/miniconda3/envs/my-oset-venv/lib/python3.10/site-packages/oset/ecg/peak_detection/peak_detection.py:275\u001b[0m, in \u001b[0;36mpeak_detection_modified_pan_tompkins\u001b[0;34m(data, fs, *args)\u001b[0m\n\u001b[1;32m    273\u001b[0m \u001b[38;5;66;03m# Moving average\u001b[39;00m\n\u001b[1;32m    274\u001b[0m L3 \u001b[38;5;241m=\u001b[39m \u001b[38;5;28mround\u001b[39m(fs \u001b[38;5;241m*\u001b[39m wlen)\n\u001b[0;32m--> 275\u001b[0m v \u001b[38;5;241m=\u001b[39m lfilter(np\u001b[38;5;241m.\u001b[39mconcatenate(([\u001b[38;5;241m1\u001b[39m], \u001b[43mnp\u001b[49m\u001b[38;5;241;43m.\u001b[39;49m\u001b[43mzeros\u001b[49m\u001b[43m(\u001b[49m\u001b[43mL3\u001b[49m\u001b[43m \u001b[49m\u001b[38;5;241;43m-\u001b[39;49m\u001b[43m \u001b[49m\u001b[38;5;241;43m1\u001b[39;49m\u001b[43m)\u001b[49m, [\u001b[38;5;241m-\u001b[39m\u001b[38;5;241m1\u001b[39m])), [L3, \u001b[38;5;241m-\u001b[39mL3], w)\n\u001b[1;32m    276\u001b[0m v \u001b[38;5;241m=\u001b[39m np\u001b[38;5;241m.\u001b[39mconcatenate([v[\u001b[38;5;28mround\u001b[39m(L3 \u001b[38;5;241m/\u001b[39m \u001b[38;5;241m2\u001b[39m) \u001b[38;5;241m-\u001b[39m \u001b[38;5;241m1\u001b[39m:], np\u001b[38;5;241m.\u001b[39mzeros(\u001b[38;5;28mround\u001b[39m(L3 \u001b[38;5;241m/\u001b[39m \u001b[38;5;241m2\u001b[39m) \u001b[38;5;241m-\u001b[39m \u001b[38;5;241m1\u001b[39m) \u001b[38;5;241m+\u001b[39m v[\u001b[38;5;241m-\u001b[39m\u001b[38;5;241m1\u001b[39m]])  \u001b[38;5;66;03m# Group-delay lag compensation\u001b[39;00m\n\u001b[1;32m    278\u001b[0m v_sat \u001b[38;5;241m=\u001b[39m tanh_saturation(v, ksigma)\n",
      "\u001b[0;31mValueError\u001b[0m: negative dimensions are not allowed"
     ]
    }
   ],
   "source": [
    "mat = scipy.io.loadmat('../../../datasets/sample-data/SampleECG1.mat')['data'][0]\n",
    "f = 1\n",
    "fs = 1000\n",
    "t = np.arange(len(mat)) / fs\n",
    "peaks=peak_detection_modified_pan_tompkins(mat, fs, None)[0]"
   ]
  },
  {
   "cell_type": "code",
   "execution_count": null,
   "metadata": {
    "tags": []
   },
   "outputs": [],
   "source": [
    "plt.figure()\n",
    "plt.figure(figsize=(12,5))\n",
    "plt.plot(t, mat, 'b', label='ECG')\n",
    "plt.plot(t, peaks * mat, 'ro', label='ECG Peaks (max detection)')\n",
    "plt.xlabel('time (sec.)')\n",
    "plt.legend()\n",
    "plt.grid()\n",
    "plt.show()"
   ]
  }
 ],
 "metadata": {
  "kernelspec": {
   "display_name": "Python 3 (ipykernel)",
   "language": "python",
   "name": "python3"
  },
  "language_info": {
   "codemirror_mode": {
    "name": "ipython",
    "version": 3
   },
   "file_extension": ".py",
   "mimetype": "text/x-python",
   "name": "python",
   "nbconvert_exporter": "python",
   "pygments_lexer": "ipython3",
   "version": "3.10.12"
  }
 },
 "nbformat": 4,
 "nbformat_minor": 4
}
