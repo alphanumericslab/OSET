{
 "cells": [
  {
   "cell_type": "code",
   "execution_count": 1,
   "metadata": {
    "is_executing": true
   },
   "outputs": [],
   "source": [
    "import scipy.io\n",
    "import numpy as np\n",
    "import matplotlib.pyplot as plt\n",
    "from oset.generic.lp_filter.lp_filter_zero_phase import lp_filter_zero_phase\n",
    "from oset.ecg.peak_detection.peak_detection import peak_detection_amp_threshold"
   ]
  },
  {
   "cell_type": "code",
   "execution_count": 2,
   "metadata": {
    "collapsed": false,
    "jupyter": {
     "outputs_hidden": false
    }
   },
   "outputs": [
    {
     "ename": "TypeError",
     "evalue": "'module' object is not callable",
     "output_type": "error",
     "traceback": [
      "\u001b[0;31m---------------------------------------------------------------------------\u001b[0m",
      "\u001b[0;31mTypeError\u001b[0m                                 Traceback (most recent call last)",
      "Cell \u001b[0;32mIn[2], line 6\u001b[0m\n\u001b[1;32m      3\u001b[0m fc \u001b[38;5;241m=\u001b[39m \u001b[38;5;241m0.5\u001b[39m\n\u001b[1;32m      4\u001b[0m fs \u001b[38;5;241m=\u001b[39m \u001b[38;5;241m1000\u001b[39m\n\u001b[0;32m----> 6\u001b[0m mat \u001b[38;5;241m=\u001b[39m mat \u001b[38;5;241m-\u001b[39m \u001b[43mlp_filter_zero_phase\u001b[49m\u001b[43m(\u001b[49m\u001b[43mmat\u001b[49m\u001b[43m,\u001b[49m\u001b[43m \u001b[49m\u001b[43mfc\u001b[49m\u001b[43m \u001b[49m\u001b[38;5;241;43m/\u001b[39;49m\u001b[43m \u001b[49m\u001b[43mfs\u001b[49m\u001b[43m)\u001b[49m\n\u001b[1;32m      8\u001b[0m t \u001b[38;5;241m=\u001b[39m np\u001b[38;5;241m.\u001b[39marange(\u001b[38;5;28mlen\u001b[39m(mat)) \u001b[38;5;241m/\u001b[39m fs\n\u001b[1;32m      9\u001b[0m peaks\u001b[38;5;241m=\u001b[39mpeak_detection_amp_threshold(mat, f \u001b[38;5;241m/\u001b[39m fs, \u001b[38;5;241m0\u001b[39m)[\u001b[38;5;241m0\u001b[39m]\n",
      "\u001b[0;31mTypeError\u001b[0m: 'module' object is not callable"
     ]
    }
   ],
   "source": [
    "mat = scipy.io.loadmat('../../../datasets/sample-data/SampleECG1.mat')['data'][0]\n",
    "f = 1\n",
    "fc = 0.5\n",
    "fs = 1000\n",
    "\n",
    "mat = mat - lp_filter_zero_phase(mat, fc / fs)\n",
    "\n",
    "t = np.arange(len(mat)) / fs\n",
    "peaks=peak_detection_amp_threshold(mat, f / fs, 0)[0]"
   ]
  },
  {
   "cell_type": "code",
   "execution_count": null,
   "metadata": {},
   "outputs": [],
   "source": [
    "plt.figure()\n",
    "plt.figure(figsize=(12,5))\n",
    "plt.plot(t, mat, 'b', label='ECG')\n",
    "plt.plot(t, peaks * mat, 'ro', label='ECG Peaks (max detection)')\n",
    "plt.xlabel('time (sec.)')\n",
    "plt.legend()\n",
    "plt.grid()\n",
    "plt.show()"
   ]
  },
  {
   "cell_type": "code",
   "execution_count": null,
   "metadata": {
    "tags": []
   },
   "outputs": [],
   "source": [
    "# neglect some peaks\n",
    "peaks=peak_detection_amp_threshold(mat, f / fs, 0.9)[0]\n",
    "plt.figure()\n",
    "plt.figure(figsize=(12,5))\n",
    "plt.plot(t, mat, 'b', label='ECG')\n",
    "plt.plot(t, peaks * mat, 'ro', label='ECG Peaks (max detection)')\n",
    "plt.xlabel('time (sec.)')\n",
    "plt.legend()\n",
    "plt.grid()\n",
    "plt.show()"
   ]
  }
 ],
 "metadata": {
  "kernelspec": {
   "display_name": "Python 3 (ipykernel)",
   "language": "python",
   "name": "python3"
  },
  "language_info": {
   "codemirror_mode": {
    "name": "ipython",
    "version": 3
   },
   "file_extension": ".py",
   "mimetype": "text/x-python",
   "name": "python",
   "nbconvert_exporter": "python",
   "pygments_lexer": "ipython3",
   "version": "3.10.12"
  }
 },
 "nbformat": 4,
 "nbformat_minor": 4
}
