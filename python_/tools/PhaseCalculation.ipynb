{
 "cells": [
  {
   "cell_type": "code",
   "execution_count": null,
   "id": "817c251d",
   "metadata": {},
   "outputs": [],
   "source": [
    "def PhaseCalculation(peaks):\n",
    "    phasepos = np.zeros(len(peaks))\n",
    "    # print(phasepos)\n",
    "    # print(len(phasepos))\n",
    "    I = np.nonzero(peaks)[0]\n",
    "    # print('I is',I,'\\n')\n",
    "    for i in np.arange(len(I)-1):\n",
    "        m = I[i+1]-I[i]\n",
    "        # print(i, i+1, I[i], I[i+1],m)\n",
    "        phasepos[I[i] : I[i+1]] = np.arange(2*np.pi/m, 2*np.pi + 2*np.pi/m, 2*np.pi/m)\n",
    "        # print(phasepos)\n",
    "\n",
    "    m = I[1] - I[0]\n",
    "    L = len(phasepos[0:I[0]])\n",
    "    # print(L)\n",
    "    phasepos[0 : I[0]] = np.arange(2*np.pi-(L-1)*2*np.pi/m, 2*np.pi + 2*np.pi/m, 2*np.pi/m)\n",
    "    # print(phasepos)    \n",
    "\n",
    "    m = I[-1] - I[-2]\n",
    "    L = len(phasepos[I[-1]:])\n",
    "    # print(L)\n",
    "    phasepos[I[-1] : ] = np.arange(2*np.pi/m, L*2*np.pi/m + 2*np.pi/m, 2*np.pi/m)\n",
    "    # print(phasepos)\n",
    "\n",
    "    # print('\\n')\n",
    "    # print(phasepos)\n",
    "    # print('\\n')\n",
    "    phasepos = phasepos % (2*np.pi)\n",
    "    # print(phasepos)\n",
    "    # print('\\n')\n",
    "    phase = phasepos\n",
    "    # print(phase)\n",
    "    # print('\\n')\n",
    "    I = np.nonzero(phasepos>np.pi)[0]\n",
    "    # print(I)\n",
    "    # print('\\n')\n",
    "    phase[I] = phasepos[I] - 2*np.pi\n",
    "    # print(phase)\n",
    "    # print('\\n')\n",
    "    return phase, phasepos"
   ]
  }
 ],
 "metadata": {
  "kernelspec": {
   "display_name": "Python 3 (ipykernel)",
   "language": "python",
   "name": "python3"
  },
  "language_info": {
   "codemirror_mode": {
    "name": "ipython",
    "version": 3
   },
   "file_extension": ".py",
   "mimetype": "text/x-python",
   "name": "python",
   "nbconvert_exporter": "python",
   "pygments_lexer": "ipython3",
   "version": "3.7.11"
  }
 },
 "nbformat": 4,
 "nbformat_minor": 5
}
