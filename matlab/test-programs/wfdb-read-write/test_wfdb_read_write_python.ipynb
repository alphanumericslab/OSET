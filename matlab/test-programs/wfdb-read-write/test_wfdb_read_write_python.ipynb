{
 "cells": [
  {
   "cell_type": "code",
   "execution_count": 1,
   "id": "667bae81-b276-4bf1-8ac7-a93b9f886259",
   "metadata": {
    "tags": []
   },
   "outputs": [],
   "source": [
    "import shutil\n",
    "import os\n",
    "import pandas as pd\n",
    "import numpy as np\n",
    "\n",
    "from importlib.machinery import SourceFileLoader\n",
    " \n",
    "# import the module from the given path\n",
    "wfdb_csv = SourceFileLoader(\"csv\",\"/Users/rsameni/Documents/GitHub/wfdb-python/wfdb/io/convert/csv.py\").load_module()"
   ]
  },
  {
   "cell_type": "code",
   "execution_count": 2,
   "id": "9440a53d-7ce2-43e1-a589-5ee66d4d7fb4",
   "metadata": {
    "tags": []
   },
   "outputs": [
    {
     "name": "stdout",
     "output_type": "stream",
     "text": [
      "Successfully read CSV\n",
      "Signal length: 10000\n",
      "Number of signals: 22\n",
      "Output header: sample_wfdbpython.hea\n",
      "Output record: sample_wfdbpython.dat\n",
      "Signal format: ['16', '16', '16', '16', '16', '16', '16', '16', '16', '16', '16', '16', '16', '16', '16', '16', '16', '16', '16', '16', '16', '16']\n",
      "Signal ADC gain: [1169.2853, 623.5733, 606.739, 599.6823, 2050.5455, 978.1121, 1340.904, 675.7573, 721.4834, 1636.7501, 761.963, 827.1539, 97.9593, 436.8645, 724.5705, 991.2768, 252.3887, 653.6862, 334.3704, 584.9177, 191.8075, 336.283]\n",
      "Signal baseline: [146, 37, 217, 216, 359, 107, 38, -210, -23, -41, -141, 8, 41, -27, 84, 273, -29, -2, 88, 92, -110, 121]\n",
      "Signal ADC resolution: [16, 16, 16, 16, 16, 16, 16, 16, 16, 16, 16, 16, 16, 16, 16, 16, 16, 16, 16, 16, 16, 16]\n",
      "Signal ADC zero: [0, 0, 0, 0, 0, 0, 0, 0, 0, 0, 0, 0, 0, 0, 0, 0, 0, 0, 0, 0, 0, 0]\n",
      "Signal initial value: True\n",
      "Signal checksum: True\n",
      "Signal block size: [0, 0, 0, 0, 0, 0, 0, 0, 0, 0, 0, 0, 0, 0, 0, 0, 0, 0, 0, 0, 0, 0]\n"
     ]
    },
    {
     "ename": "IndexError",
     "evalue": "Channel 0 contain values outside allowed range [-32768, 32767] for fmt 16",
     "output_type": "error",
     "traceback": [
      "\u001b[0;31m---------------------------------------------------------------------------\u001b[0m",
      "\u001b[0;31mIndexError\u001b[0m                                Traceback (most recent call last)",
      "Cell \u001b[0;32mIn[2], line 36\u001b[0m\n\u001b[1;32m     30\u001b[0m \u001b[38;5;66;03m# Update the dataframe with the modified values\u001b[39;00m\n\u001b[1;32m     31\u001b[0m \u001b[38;5;66;03m#df.iloc[1:] = df_unbiased\u001b[39;00m\n\u001b[1;32m     32\u001b[0m \n\u001b[1;32m     33\u001b[0m \u001b[38;5;66;03m# Save the modified CSV data back to the file\u001b[39;00m\n\u001b[1;32m     34\u001b[0m df_unbiased\u001b[38;5;241m.\u001b[39mto_csv(fname_out, header\u001b[38;5;241m=\u001b[39m\u001b[38;5;28;01mTrue\u001b[39;00m, index\u001b[38;5;241m=\u001b[39m\u001b[38;5;28;01mFalse\u001b[39;00m)\n\u001b[0;32m---> 36\u001b[0m \u001b[43mwfdb_csv\u001b[49m\u001b[38;5;241;43m.\u001b[39;49m\u001b[43mcsv_to_wfdb\u001b[49m\u001b[43m(\u001b[49m\u001b[43mfname_out\u001b[49m\u001b[43m,\u001b[49m\u001b[43m \u001b[49m\u001b[43mfs\u001b[49m\u001b[43m,\u001b[49m\u001b[43m \u001b[49m\u001b[43munits\u001b[49m\u001b[43m,\u001b[49m\u001b[43m \u001b[49m\u001b[43mfmt\u001b[49m\u001b[38;5;241;43m=\u001b[39;49m\u001b[38;5;124;43m'\u001b[39;49m\u001b[38;5;124;43m16\u001b[39;49m\u001b[38;5;124;43m'\u001b[39;49m\u001b[43m,\u001b[49m\u001b[43m \u001b[49m\u001b[43madc_gain\u001b[49m\u001b[38;5;241;43m=\u001b[39;49m\u001b[43m[\u001b[49m\u001b[38;5;28;43mfloat\u001b[39;49m\u001b[43m(\u001b[49m\u001b[38;5;124;43m\"\u001b[39;49m\u001b[38;5;132;43;01m{:.4f}\u001b[39;49;00m\u001b[38;5;124;43m\"\u001b[39;49m\u001b[38;5;241;43m.\u001b[39;49m\u001b[43mformat\u001b[49m\u001b[43m(\u001b[49m\u001b[43mvalue\u001b[49m\u001b[43m)\u001b[49m\u001b[43m)\u001b[49m\u001b[43m \u001b[49m\u001b[38;5;28;43;01mfor\u001b[39;49;00m\u001b[43m \u001b[49m\u001b[43mvalue\u001b[49m\u001b[43m \u001b[49m\u001b[38;5;129;43;01min\u001b[39;49;00m\u001b[43m \u001b[49m\u001b[43mgains\u001b[49m\u001b[38;5;241;43m.\u001b[39;49m\u001b[43mvalues\u001b[49m\u001b[43m[\u001b[49m\u001b[38;5;241;43m0\u001b[39;49m\u001b[43m]\u001b[49m\u001b[43m]\u001b[49m\u001b[43m,\u001b[49m\n\u001b[1;32m     37\u001b[0m \u001b[43m                     \u001b[49m\u001b[43mbaseline\u001b[49m\u001b[38;5;241;43m=\u001b[39;49m\u001b[43m[\u001b[49m\u001b[43mx\u001b[49m\u001b[43m \u001b[49m\u001b[38;5;28;43;01mfor\u001b[39;49;00m\u001b[43m \u001b[49m\u001b[43mx\u001b[49m\u001b[43m \u001b[49m\u001b[38;5;129;43;01min\u001b[39;49;00m\u001b[43m \u001b[49m\u001b[43mbiases\u001b[49m\u001b[38;5;241;43m.\u001b[39;49m\u001b[43mvalues\u001b[49m\u001b[43m[\u001b[49m\u001b[38;5;241;43m0\u001b[39;49m\u001b[43m]\u001b[49m\u001b[43m]\u001b[49m\u001b[43m,\u001b[49m\u001b[43m \u001b[49m\u001b[43msamps_per_frame\u001b[49m\u001b[38;5;241;43m=\u001b[39;49m\u001b[38;5;28;43;01mNone\u001b[39;49;00m\u001b[43m,\u001b[49m\n\u001b[1;32m     38\u001b[0m \u001b[43m                     \u001b[49m\u001b[43mcounter_freq\u001b[49m\u001b[38;5;241;43m=\u001b[39;49m\u001b[38;5;28;43;01mNone\u001b[39;49;00m\u001b[43m,\u001b[49m\u001b[43m \u001b[49m\u001b[43mbase_counter\u001b[49m\u001b[38;5;241;43m=\u001b[39;49m\u001b[38;5;28;43;01mNone\u001b[39;49;00m\u001b[43m,\u001b[49m\n\u001b[1;32m     39\u001b[0m \u001b[43m                     \u001b[49m\u001b[43mbase_time\u001b[49m\u001b[38;5;241;43m=\u001b[39;49m\u001b[38;5;28;43;01mNone\u001b[39;49;00m\u001b[43m,\u001b[49m\u001b[43m \u001b[49m\u001b[43mbase_date\u001b[49m\u001b[38;5;241;43m=\u001b[39;49m\u001b[38;5;28;43;01mNone\u001b[39;49;00m\u001b[43m,\u001b[49m\u001b[43m \u001b[49m\u001b[43mcomments\u001b[49m\u001b[38;5;241;43m=\u001b[39;49m\u001b[38;5;28;43;01mNone\u001b[39;49;00m\u001b[43m,\u001b[49m\n\u001b[1;32m     40\u001b[0m \u001b[43m                     \u001b[49m\u001b[43msig_name\u001b[49m\u001b[38;5;241;43m=\u001b[39;49m\u001b[38;5;28;43;01mNone\u001b[39;49;00m\u001b[43m,\u001b[49m\u001b[43m \u001b[49m\u001b[43mdat_file_name\u001b[49m\u001b[38;5;241;43m=\u001b[39;49m\u001b[38;5;28;43;01mNone\u001b[39;49;00m\u001b[43m,\u001b[49m\u001b[43m \u001b[49m\u001b[43mskew\u001b[49m\u001b[38;5;241;43m=\u001b[39;49m\u001b[38;5;28;43;01mNone\u001b[39;49;00m\u001b[43m,\u001b[49m\n\u001b[1;32m     41\u001b[0m \u001b[43m                     \u001b[49m\u001b[43mbyte_offset\u001b[49m\u001b[38;5;241;43m=\u001b[39;49m\u001b[38;5;28;43;01mNone\u001b[39;49;00m\u001b[43m,\u001b[49m\u001b[43m \u001b[49m\u001b[43madc_res\u001b[49m\u001b[38;5;241;43m=\u001b[39;49m\u001b[38;5;241;43m16\u001b[39;49m\u001b[43m,\u001b[49m\u001b[43m \u001b[49m\u001b[43madc_zero\u001b[49m\u001b[38;5;241;43m=\u001b[39;49m\u001b[38;5;28;43;01mNone\u001b[39;49;00m\u001b[43m,\u001b[49m\n\u001b[1;32m     42\u001b[0m \u001b[43m                     \u001b[49m\u001b[43minit_value\u001b[49m\u001b[38;5;241;43m=\u001b[39;49m\u001b[38;5;28;43;01mTrue\u001b[39;49;00m\u001b[43m,\u001b[49m\u001b[43m \u001b[49m\u001b[43mchecksum\u001b[49m\u001b[38;5;241;43m=\u001b[39;49m\u001b[38;5;28;43;01mTrue\u001b[39;49;00m\u001b[43m,\u001b[49m\u001b[43m \u001b[49m\u001b[43mblock_size\u001b[49m\u001b[38;5;241;43m=\u001b[39;49m\u001b[38;5;28;43;01mNone\u001b[39;49;00m\u001b[43m,\u001b[49m\n\u001b[1;32m     43\u001b[0m \u001b[43m                     \u001b[49m\u001b[43mrecord_only\u001b[49m\u001b[38;5;241;43m=\u001b[39;49m\u001b[38;5;28;43;01mFalse\u001b[39;49;00m\u001b[43m,\u001b[49m\u001b[43m \u001b[49m\u001b[43mheader\u001b[49m\u001b[38;5;241;43m=\u001b[39;49m\u001b[38;5;28;43;01mTrue\u001b[39;49;00m\u001b[43m,\u001b[49m\u001b[43m \u001b[49m\u001b[43mdelimiter\u001b[49m\u001b[38;5;241;43m=\u001b[39;49m\u001b[38;5;124;43m'\u001b[39;49m\u001b[38;5;124;43m,\u001b[39;49m\u001b[38;5;124;43m'\u001b[39;49m\u001b[43m,\u001b[49m\u001b[43m \u001b[49m\u001b[43mverbose\u001b[49m\u001b[38;5;241;43m=\u001b[39;49m\u001b[38;5;28;43;01mTrue\u001b[39;49;00m\u001b[43m)\u001b[49m\n\u001b[1;32m     45\u001b[0m os\u001b[38;5;241m.\u001b[39mremove(fname_out)\n",
      "File \u001b[0;32m~/Documents/GitHub/wfdb-python/wfdb/io/convert/csv.py:456\u001b[0m, in \u001b[0;36mcsv_to_wfdb\u001b[0;34m(file_name, fs, units, fmt, adc_gain, baseline, samps_per_frame, counter_freq, base_counter, base_time, base_date, comments, sig_name, dat_file_name, skew, byte_offset, adc_res, adc_zero, init_value, checksum, block_size, record_only, header, delimiter, verbose)\u001b[0m\n\u001b[1;32m    452\u001b[0m     \u001b[38;5;28;01mreturn\u001b[39;00m record\n\u001b[1;32m    454\u001b[0m \u001b[38;5;28;01melse\u001b[39;00m:\n\u001b[1;32m    455\u001b[0m     \u001b[38;5;66;03m# Write the information to a record and header file\u001b[39;00m\n\u001b[0;32m--> 456\u001b[0m     \u001b[43mwrsamp\u001b[49m\u001b[43m(\u001b[49m\n\u001b[1;32m    457\u001b[0m \u001b[43m        \u001b[49m\u001b[43mrecord_name\u001b[49m\u001b[38;5;241;43m=\u001b[39;49m\u001b[43mrecord_name\u001b[49m\u001b[43m,\u001b[49m\n\u001b[1;32m    458\u001b[0m \u001b[43m        \u001b[49m\u001b[43mfs\u001b[49m\u001b[38;5;241;43m=\u001b[39;49m\u001b[43mfs\u001b[49m\u001b[43m,\u001b[49m\n\u001b[1;32m    459\u001b[0m \u001b[43m        \u001b[49m\u001b[43munits\u001b[49m\u001b[38;5;241;43m=\u001b[39;49m\u001b[43munits\u001b[49m\u001b[43m,\u001b[49m\n\u001b[1;32m    460\u001b[0m \u001b[43m        \u001b[49m\u001b[43msig_name\u001b[49m\u001b[38;5;241;43m=\u001b[39;49m\u001b[43msig_name\u001b[49m\u001b[43m,\u001b[49m\n\u001b[1;32m    461\u001b[0m \u001b[43m        \u001b[49m\u001b[43mp_signal\u001b[49m\u001b[38;5;241;43m=\u001b[39;49m\u001b[43mp_signal\u001b[49m\u001b[43m,\u001b[49m\n\u001b[1;32m    462\u001b[0m \u001b[43m        \u001b[49m\u001b[43mfmt\u001b[49m\u001b[38;5;241;43m=\u001b[39;49m\u001b[43mfmt\u001b[49m\u001b[43m,\u001b[49m\n\u001b[1;32m    463\u001b[0m \u001b[43m        \u001b[49m\u001b[43madc_gain\u001b[49m\u001b[38;5;241;43m=\u001b[39;49m\u001b[43madc_gain\u001b[49m\u001b[43m,\u001b[49m\n\u001b[1;32m    464\u001b[0m \u001b[43m        \u001b[49m\u001b[43mbaseline\u001b[49m\u001b[38;5;241;43m=\u001b[39;49m\u001b[43mbaseline\u001b[49m\u001b[43m,\u001b[49m\n\u001b[1;32m    465\u001b[0m \u001b[43m        \u001b[49m\u001b[43mcomments\u001b[49m\u001b[38;5;241;43m=\u001b[39;49m\u001b[43mcomments\u001b[49m\u001b[43m,\u001b[49m\n\u001b[1;32m    466\u001b[0m \u001b[43m        \u001b[49m\u001b[43mbase_time\u001b[49m\u001b[38;5;241;43m=\u001b[39;49m\u001b[43mbase_time\u001b[49m\u001b[43m,\u001b[49m\n\u001b[1;32m    467\u001b[0m \u001b[43m        \u001b[49m\u001b[43mbase_date\u001b[49m\u001b[38;5;241;43m=\u001b[39;49m\u001b[43mbase_date\u001b[49m\u001b[43m,\u001b[49m\n\u001b[1;32m    468\u001b[0m \u001b[43m    \u001b[49m\u001b[43m)\u001b[49m\n\u001b[1;32m    469\u001b[0m     \u001b[38;5;28;01mif\u001b[39;00m verbose:\n\u001b[1;32m    470\u001b[0m         \u001b[38;5;28mprint\u001b[39m(\u001b[38;5;124m\"\u001b[39m\u001b[38;5;124mFile generated successfully\u001b[39m\u001b[38;5;124m\"\u001b[39m)\n",
      "File \u001b[0;32m/Applications/miniconda3/lib/python3.10/site-packages/wfdb/io/record.py:2968\u001b[0m, in \u001b[0;36mwrsamp\u001b[0;34m(record_name, fs, units, sig_name, p_signal, d_signal, fmt, adc_gain, baseline, comments, base_time, base_date, base_datetime, write_dir)\u001b[0m\n\u001b[1;32m   2966\u001b[0m record\u001b[38;5;241m.\u001b[39mset_defaults()\n\u001b[1;32m   2967\u001b[0m \u001b[38;5;66;03m# Write the record files - header and associated dat\u001b[39;00m\n\u001b[0;32m-> 2968\u001b[0m \u001b[43mrecord\u001b[49m\u001b[38;5;241;43m.\u001b[39;49m\u001b[43mwrsamp\u001b[49m\u001b[43m(\u001b[49m\u001b[43mwrite_dir\u001b[49m\u001b[38;5;241;43m=\u001b[39;49m\u001b[43mwrite_dir\u001b[49m\u001b[43m)\u001b[49m\n",
      "File \u001b[0;32m/Applications/miniconda3/lib/python3.10/site-packages/wfdb/io/record.py:939\u001b[0m, in \u001b[0;36mRecord.wrsamp\u001b[0;34m(self, expanded, write_dir)\u001b[0m\n\u001b[1;32m    935\u001b[0m \u001b[38;5;28mself\u001b[39m\u001b[38;5;241m.\u001b[39mwrheader(write_dir\u001b[38;5;241m=\u001b[39mwrite_dir, expanded\u001b[38;5;241m=\u001b[39mexpanded)\n\u001b[1;32m    936\u001b[0m \u001b[38;5;28;01mif\u001b[39;00m \u001b[38;5;28mself\u001b[39m\u001b[38;5;241m.\u001b[39mn_sig \u001b[38;5;241m>\u001b[39m \u001b[38;5;241m0\u001b[39m:\n\u001b[1;32m    937\u001b[0m     \u001b[38;5;66;03m# Perform signal validity and cohesion checks, and write the\u001b[39;00m\n\u001b[1;32m    938\u001b[0m     \u001b[38;5;66;03m# associated dat files.\u001b[39;00m\n\u001b[0;32m--> 939\u001b[0m     \u001b[38;5;28;43mself\u001b[39;49m\u001b[38;5;241;43m.\u001b[39;49m\u001b[43mwr_dats\u001b[49m\u001b[43m(\u001b[49m\u001b[43mexpanded\u001b[49m\u001b[38;5;241;43m=\u001b[39;49m\u001b[43mexpanded\u001b[49m\u001b[43m,\u001b[49m\u001b[43m \u001b[49m\u001b[43mwrite_dir\u001b[49m\u001b[38;5;241;43m=\u001b[39;49m\u001b[43mwrite_dir\u001b[49m\u001b[43m)\u001b[49m\n",
      "File \u001b[0;32m/Applications/miniconda3/lib/python3.10/site-packages/wfdb/io/_signal.py:158\u001b[0m, in \u001b[0;36mSignalMixin.wr_dats\u001b[0;34m(self, expanded, write_dir)\u001b[0m\n\u001b[1;32m    152\u001b[0m     \u001b[38;5;28mself\u001b[39m\u001b[38;5;241m.\u001b[39mcheck_field(\u001b[38;5;124m\"\u001b[39m\u001b[38;5;124md_signal\u001b[39m\u001b[38;5;124m\"\u001b[39m)\n\u001b[1;32m    154\u001b[0m \u001b[38;5;66;03m# Check the cohesion of the d_signal field against the other\u001b[39;00m\n\u001b[1;32m    155\u001b[0m \u001b[38;5;66;03m# fields used to write the header.  (Note that for historical\u001b[39;00m\n\u001b[1;32m    156\u001b[0m \u001b[38;5;66;03m# reasons, this doesn't actually check any of the optional\u001b[39;00m\n\u001b[1;32m    157\u001b[0m \u001b[38;5;66;03m# header fields.)\u001b[39;00m\n\u001b[0;32m--> 158\u001b[0m \u001b[38;5;28;43mself\u001b[39;49m\u001b[38;5;241;43m.\u001b[39;49m\u001b[43mcheck_sig_cohesion\u001b[49m\u001b[43m(\u001b[49m\u001b[43m[\u001b[49m\u001b[43m]\u001b[49m\u001b[43m,\u001b[49m\u001b[43m \u001b[49m\u001b[43mexpanded\u001b[49m\u001b[43m)\u001b[49m\n\u001b[1;32m    160\u001b[0m \u001b[38;5;66;03m# Write each of the specified dat files\u001b[39;00m\n\u001b[1;32m    161\u001b[0m \u001b[38;5;28mself\u001b[39m\u001b[38;5;241m.\u001b[39mwr_dat_files(expanded\u001b[38;5;241m=\u001b[39mexpanded, write_dir\u001b[38;5;241m=\u001b[39mwrite_dir)\n",
      "File \u001b[0;32m/Applications/miniconda3/lib/python3.10/site-packages/wfdb/io/_signal.py:264\u001b[0m, in \u001b[0;36mSignalMixin.check_sig_cohesion\u001b[0;34m(self, write_fields, expanded)\u001b[0m\n\u001b[1;32m    262\u001b[0m     chmax \u001b[38;5;241m=\u001b[39m \u001b[38;5;28mmax\u001b[39m(\u001b[38;5;28mself\u001b[39m\u001b[38;5;241m.\u001b[39md_signal[:, ch])\n\u001b[1;32m    263\u001b[0m     \u001b[38;5;28;01mif\u001b[39;00m (chmin \u001b[38;5;241m<\u001b[39m dmin) \u001b[38;5;129;01mor\u001b[39;00m (chmax \u001b[38;5;241m>\u001b[39m dmax):\n\u001b[0;32m--> 264\u001b[0m         \u001b[38;5;28;01mraise\u001b[39;00m \u001b[38;5;167;01mIndexError\u001b[39;00m(\n\u001b[1;32m    265\u001b[0m             \u001b[38;5;124m\"\u001b[39m\u001b[38;5;124mChannel \u001b[39m\u001b[38;5;124m\"\u001b[39m\n\u001b[1;32m    266\u001b[0m             \u001b[38;5;241m+\u001b[39m \u001b[38;5;28mstr\u001b[39m(ch)\n\u001b[1;32m    267\u001b[0m             \u001b[38;5;241m+\u001b[39m \u001b[38;5;124m\"\u001b[39m\u001b[38;5;124m contain values outside allowed range [\u001b[39m\u001b[38;5;124m\"\u001b[39m\n\u001b[1;32m    268\u001b[0m             \u001b[38;5;241m+\u001b[39m \u001b[38;5;28mstr\u001b[39m(dmin)\n\u001b[1;32m    269\u001b[0m             \u001b[38;5;241m+\u001b[39m \u001b[38;5;124m\"\u001b[39m\u001b[38;5;124m, \u001b[39m\u001b[38;5;124m\"\u001b[39m\n\u001b[1;32m    270\u001b[0m             \u001b[38;5;241m+\u001b[39m \u001b[38;5;28mstr\u001b[39m(dmax)\n\u001b[1;32m    271\u001b[0m             \u001b[38;5;241m+\u001b[39m \u001b[38;5;124m\"\u001b[39m\u001b[38;5;124m] for fmt \u001b[39m\u001b[38;5;124m\"\u001b[39m\n\u001b[1;32m    272\u001b[0m             \u001b[38;5;241m+\u001b[39m \u001b[38;5;28mstr\u001b[39m(fmt)\n\u001b[1;32m    273\u001b[0m         )\n\u001b[1;32m    275\u001b[0m \u001b[38;5;66;03m# Ensure that the checksums and initial value fields match the digital signal (if the fields are present)\u001b[39;00m\n\u001b[1;32m    276\u001b[0m \u001b[38;5;28;01mif\u001b[39;00m \u001b[38;5;28mself\u001b[39m\u001b[38;5;241m.\u001b[39mn_sig \u001b[38;5;241m>\u001b[39m \u001b[38;5;241m0\u001b[39m:\n",
      "\u001b[0;31mIndexError\u001b[0m: Channel 0 contain values outside allowed range [-32768, 32767] for fmt 16"
     ]
    }
   ],
   "source": [
    "import shutil\n",
    "import os\n",
    "import pandas as pd\n",
    "import numpy as np\n",
    "\n",
    "from importlib.machinery import SourceFileLoader\n",
    "\n",
    "# import the module from the given path\n",
    "wfdb_csv = SourceFileLoader(\"csv\", \"/Users/rsameni/Documents/GitHub/wfdb-python/wfdb/io/convert/csv.py\").load_module()\n",
    "\n",
    "fname_in = 'sample_raw.csv'\n",
    "fname_gain = 'sample_gain.csv'\n",
    "fname_bias = 'sample_bias.csv'\n",
    "fname_out = 'sample_wfdbpython.csv'\n",
    "fs = 256\n",
    "units = 'mV'\n",
    "\n",
    "shutil.copyfile(fname_in, fname_out)\n",
    "\n",
    "# Read the channel gains and biases using pandas\n",
    "gains = pd.read_csv(fname_gain, header=None, dtype=float)\n",
    "biases = pd.read_csv(fname_bias, header=None, dtype=int)\n",
    "\n",
    "# Read the contents of the CSV file using pandas\n",
    "df = pd.read_csv(fname_out, header=[0], skiprows=[1])\n",
    "\n",
    "# Subtract biases from each column of rows (excluding the header rows)\n",
    "df_unbiased = df.sub(biases.values[0], axis=1)\n",
    "\n",
    "# Update the dataframe with the modified values\n",
    "#df.iloc[1:] = df_unbiased\n",
    "\n",
    "# Save the modified CSV data back to the file\n",
    "df_unbiased.to_csv(fname_out, header=True, index=False)\n",
    "\n",
    "wfdb_csv.csv_to_wfdb(fname_out, fs, units, fmt='16', adc_gain=[float(\"{:.4f}\".format(value)) for value in gains.values[0]],\n",
    "                     baseline=[x for x in biases.values[0]], samps_per_frame=None,\n",
    "                     counter_freq=None, base_counter=None,\n",
    "                     base_time=None, base_date=None, comments=None,\n",
    "                     sig_name=None, dat_file_name=None, skew=None,\n",
    "                     byte_offset=None, adc_res=16, adc_zero=None,\n",
    "                     init_value=True, checksum=True, block_size=None,\n",
    "                     record_only=False, header=True, delimiter=',', verbose=True)\n",
    "\n",
    "os.remove(fname_out)"
   ]
  },
  {
   "cell_type": "code",
   "execution_count": null,
   "id": "02816c96-7f9a-4d4b-9774-8b528cbcb2d2",
   "metadata": {
    "tags": []
   },
   "outputs": [],
   "source": [
    "biases.values[0]"
   ]
  },
  {
   "cell_type": "code",
   "execution_count": null,
   "id": "b125be15-c6cb-44c9-9976-0639cd9fdfc7",
   "metadata": {
    "tags": []
   },
   "outputs": [],
   "source": [
    "df"
   ]
  },
  {
   "cell_type": "code",
   "execution_count": null,
   "id": "beaa80d1-0504-48c0-8d00-8bf8acbb217a",
   "metadata": {
    "tags": []
   },
   "outputs": [],
   "source": [
    "df - df_unbiased"
   ]
  },
  {
   "cell_type": "code",
   "execution_count": null,
   "id": "eb47e48d-6a90-4ae2-af4f-6e5444bc34f7",
   "metadata": {
    "tags": []
   },
   "outputs": [],
   "source": [
    "df_unbiased"
   ]
  },
  {
   "cell_type": "code",
   "execution_count": null,
   "id": "b2ce315f-ce16-4f01-a349-8817ffda27aa",
   "metadata": {
    "tags": []
   },
   "outputs": [],
   "source": [
    "df.columns.tolist()"
   ]
  },
  {
   "cell_type": "code",
   "execution_count": null,
   "id": "3779c1f1-4553-4eac-a012-0edad59e7a3c",
   "metadata": {},
   "outputs": [],
   "source": []
  }
 ],
 "metadata": {
  "kernelspec": {
   "display_name": "Python 3 (ipykernel)",
   "language": "python",
   "name": "python3"
  },
  "language_info": {
   "codemirror_mode": {
    "name": "ipython",
    "version": 3
   },
   "file_extension": ".py",
   "mimetype": "text/x-python",
   "name": "python",
   "nbconvert_exporter": "python",
   "pygments_lexer": "ipython3",
   "version": "3.10.9"
  }
 },
 "nbformat": 4,
 "nbformat_minor": 5
}
