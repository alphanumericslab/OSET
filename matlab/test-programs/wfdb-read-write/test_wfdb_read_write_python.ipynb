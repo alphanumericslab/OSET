{
 "cells": [
  {
   "cell_type": "code",
   "execution_count": 4,
   "id": "9440a53d-7ce2-43e1-a589-5ee66d4d7fb4",
   "metadata": {
    "tags": []
   },
   "outputs": [
    {
     "name": "stdout",
     "output_type": "stream",
     "text": [
      "<module 'csv' from '/labs/samenilab/team/deepanshi/wfdb-python/wfdb/io/convert/csv.py'>\n",
      "Successfully read CSV\n",
      "Signal length: 10000\n",
      "Number of signals: 22\n",
      "Output header: sample_wfdbpython.hea\n",
      "Output record: sample_wfdbpython.dat\n",
      "Signal format: ['16', '16', '16', '16', '16', '16', '16', '16', '16', '16', '16', '16', '16', '16', '16', '16', '16', '16', '16', '16', '16', '16']\n",
      "Signal ADC gain: [1169.2853, 623.5733, 606.739, 599.6823, 2050.5455, 978.1121, 1340.904, 675.7573, 721.4834, 1636.7501, 761.963, 827.1539, 97.9593, 436.8645, 724.5705, 991.2768, 252.3887, 653.6862, 334.3704, 584.9177, 191.8075, 336.283]\n",
      "Signal baseline: [14599, 3739, 21665, 21598, 35888, 10736, 3818, -20972, -2316, -4135, -14105, 841, 4116, -2711, 8381, 27282, -2915, -212, 8796, 9202, -11048, 12057]\n",
      "Signal ADC resolution: [16, 16, 16, 16, 16, 16, 16, 16, 16, 16, 16, 16, 16, 16, 16, 16, 16, 16, 16, 16, 16, 16]\n",
      "Signal ADC zero: [0, 0, 0, 0, 0, 0, 0, 0, 0, 0, 0, 0, 0, 0, 0, 0, 0, 0, 0, 0, 0, 0]\n",
      "Signal initial value: [-10625, -17120, -8539, -6475, -20443, 2420, 12498, 9115, 16602, 16383, 7591, 13863, 10435, -23609, -11397, -23034, -11141, 14348, -3397, -9389, -9836, 6817]\n",
      "Signal checksum: [30161, 30175, 36731, 60782, 20150, 59824, 27280, 35935, 60381, 49929, 59360, 21663, 12462, 41170, 45902, 59899, 64736, 41980, 42038, 20501, 4920, 12067]\n",
      "Signal block size: [0, 0, 0, 0, 0, 0, 0, 0, 0, 0, 0, 0, 0, 0, 0, 0, 0, 0, 0, 0, 0, 0]\n",
      "creating record here\n",
      "Creating record here\n",
      "ADC GAIN from adc function: [1169.2853, 623.5733, 606.739, 599.6823, 2050.5455, 978.1121, 1340.904, 675.7573, 721.4834, 1636.7501, 761.963, 827.1539, 97.9593, 436.8645, 724.5705, 991.2768, 252.3887, 653.6862, 334.3704, 584.9177, 191.8075, 336.283]\n",
      "baseline from adc gain function: [14599, 3739, 21665, 21598, 35888, 10736, 3818, -20972, -2316, -4135, -14105, 841, 4116, -2711, 8381, 27282, -2915, -212, 8796, 9202, -11048, 12057]\n",
      "-32767 32767\n",
      "File generated successfully\n"
     ]
    }
   ],
   "source": [
    "import shutil\n",
    "import os\n",
    "import pandas as pd\n",
    "import numpy as np\n",
    "\n",
    "from importlib.machinery import SourceFileLoader\n",
    "\n",
    "# import the module from the given path\n",
    "wfdb_csv = SourceFileLoader(\"csv\", \"/labs/samenilab/team/deepanshi/wfdb-python/wfdb/io/convert/csv.py\").load_module()\n",
    "\n",
    "print(wfdb_csv)\n",
    "fname_in = 'sample_raw.csv'\n",
    "fname_gain = 'sample_gain.csv'\n",
    "fname_bias = 'sample_bias.csv'\n",
    "fname_out = 'sample_wfdbpython.csv'\n",
    "fs = 256\n",
    "units = 'mV'\n",
    "\n",
    "shutil.copyfile(fname_in, fname_out)\n",
    "\n",
    "# Read the channel gains and biases using pandas\n",
    "gains = pd.read_csv(fname_gain, header=None, dtype=float)\n",
    "biases = pd.read_csv(fname_bias, header=None, dtype=int)\n",
    "\n",
    "# Read the contents of the CSV file using pandas\n",
    "df = pd.read_csv(fname_out, header=[0], skiprows=[1])\n",
    "\n",
    "# Change datatypes\n",
    "df_unbiased = df.sub(0, axis=1)\n",
    "\n",
    "# Save the modified CSV data back to the file\n",
    "df_unbiased.to_csv(fname_out, header=True, index=False)\n",
    "\n",
    "wfdb_csv.csv_to_wfdb(fname_out, fs, units, fmt='16', adc_gain=[float(\"{:.4f}\".format(value)) for value in gains.values[0]],\n",
    "                     baseline=[x for x in biases.values[0]], samps_per_frame=None,\n",
    "                     counter_freq=None, base_counter=None,\n",
    "                     base_time=None, base_date=None, comments=None,\n",
    "                     sig_name=None, dat_file_name=None, skew=None,\n",
    "                     byte_offset=None, adc_res=16, adc_zero=0,\n",
    "                     init_value=0, checksum=0, block_size=None,\n",
    "                     record_only=False, header=True, delimiter=',', verbose=True)\n",
    "\n",
    "\n",
    "os.remove(fname_out)"
   ]
  }
 ],
 "metadata": {
  "kernelspec": {
   "display_name": "Python 3 (ipykernel)",
   "language": "python",
   "name": "python3"
  },
  "language_info": {
   "codemirror_mode": {
    "name": "ipython",
    "version": 3
   },
   "file_extension": ".py",
   "mimetype": "text/x-python",
   "name": "python",
   "nbconvert_exporter": "python",
   "pygments_lexer": "ipython3",
   "version": "3.8.17"
  }
 },
 "nbformat": 4,
 "nbformat_minor": 5
}
