{
 "cells": [
  {
   "cell_type": "markdown",
   "metadata": {},
   "source": [
    "Copyright (c) 2021, David Williams, Reza Sameni\r\n",
    "\r\n",
    "All rights reserved.\r\n",
    "\r\n",
    "This source code is licensed under the BSD-style license found in the\r\n",
    "LICENSE file in the root directory of this source tree. "
   ]
  },
  {
   "cell_type": "markdown",
   "metadata": {},
   "source": [
    "## Import dependencies"
   ]
  },
  {
   "cell_type": "code",
   "execution_count": null,
   "metadata": {},
   "outputs": [],
   "source": [
    "import numpy as np\n",
    "import scipy.io as spio\n",
    "import matplotlib.pyplot as plt\n",
    "\n",
    "import os\n",
    "os.chdir(\"../../Databases/SampleData\")\n",
    "\n",
    "sample = spio.loadmat('SampleECG128Hz.mat')\n",
    "y = sample['y']\n",
    "\n",
    "os.chdir(\"../../Python3/Tools\")\n",
    "from AdaptiveFilter import AdaptiveFilter"
   ]
  },
  {
   "cell_type": "markdown",
   "metadata": {},
   "source": [
    "## Set variables and call function"
   ]
  },
  {
   "cell_type": "code",
   "execution_count": null,
   "metadata": {},
   "outputs": [],
   "source": [
    "fs = 128\n",
    "ECG = np.array(y[:,1])\n",
    "N = len(ECG)\n",
    "n = np.array(range(N))"
   ]
  },
  {
   "cell_type": "code",
   "execution_count": null,
   "metadata": {},
   "outputs": [],
   "source": [
    "rr = .1\n",
    "x = ECG + (1.21 * np.sin(100*np.pi*n/fs)) + (rr * np.random.randn(1,N))\n",
    "x = x[0]"
   ]
  },
  {
   "cell_type": "code",
   "execution_count": null,
   "metadata": {},
   "outputs": [],
   "source": [
    "delay = 3\n",
    "taps = 5\n",
    "mu = .005\n",
    "[ECG_estimate, Noise_estimate] = AdaptiveFilter(x,delay,taps,mu)"
   ]
  },
  {
   "cell_type": "markdown",
   "metadata": {},
   "source": [
    "## Calculate SNR"
   ]
  },
  {
   "cell_type": "code",
   "execution_count": null,
   "metadata": {},
   "outputs": [],
   "source": [
    "I = np.array(range(\n",
    "    int(np.floor(2*len(ECG)/4)),\n",
    "    int(np.ceil((3*len(ECG)/4)+1)))\n",
    ")\n",
    "\n",
    "SignalPower = np.mean(ECG[I]**2)\n",
    "PreNoisePower = np.mean((x[I] - ECG[I])**2)\n",
    "PostNoisePower = np.mean((ECG[I] - ECG_estimate[I])**2)\n",
    "\n",
    "Initial_SNR = 10*np.log10(SignalPower / PreNoisePower)\n",
    "AF_SNR = 10*np.log10(SignalPower / PostNoisePower)"
   ]
  },
  {
   "cell_type": "markdown",
   "metadata": {},
   "source": [
    "## Plot functions"
   ]
  },
  {
   "cell_type": "code",
   "execution_count": null,
   "metadata": {},
   "outputs": [],
   "source": [
    "t = n/fs\n",
    "\n",
    "plt.subplot(2,1,1)\n",
    "plt.plot(t, x, label = 'Noisy')\n",
    "plt.plot(t, ECG_estimate, label = 'ANC Output')\n",
    "plt.plot(t, ECG, label = 'Original')\n",
    "plt.xlabel('time (s)')\n",
    "plt.ylabel('Amplitude')\n",
    "plt.legend()\n",
    "\n",
    "plt.subplot(2,1,2)\n",
    "plt.plot(t, Noise_estimate, label = 'Noise Estimate')\n",
    "plt.xlabel('time (s)')\n",
    "plt.ylabel('Amplitude')\n",
    "plt.legend()"
   ]
  }
 ],
 "metadata": {
  "interpreter": {
   "hash": "fd7d59daf9a77afe7598812da523921418f7bf4de1e7478967922804c97dfa2e"
  },
  "kernelspec": {
   "display_name": "Python 3.6.8 64-bit ('.venv': venv)",
   "name": "python3"
  },
  "language_info": {
   "codemirror_mode": {
    "name": "ipython",
    "version": 3
   },
   "file_extension": ".py",
   "mimetype": "text/x-python",
   "name": "python",
   "nbconvert_exporter": "python",
   "pygments_lexer": "ipython3",
   "version": "3.6.8"
  },
  "metadata": {
   "interpreter": {
    "hash": "fd7d59daf9a77afe7598812da523921418f7bf4de1e7478967922804c97dfa2e"
   }
  },
  "orig_nbformat": 2
 },
 "nbformat": 4,
 "nbformat_minor": 2
}