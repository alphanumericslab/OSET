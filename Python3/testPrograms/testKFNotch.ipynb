{
 "cells": [
  {
   "cell_type": "markdown",
   "metadata": {},
   "source": [
    "Copyright (c) 2021, David Williams, Reza Sameni\r\n",
    "\r\n",
    "All rights reserved.\r\n",
    "\r\n",
    "This source code is licensed under the BSD-style license found in the\r\n",
    "LICENSE file in the root directory of this source tree. "
   ]
  },
  {
   "cell_type": "markdown",
   "metadata": {},
   "source": [
    "## Import dependencies"
   ]
  },
  {
   "cell_type": "code",
   "execution_count": null,
   "metadata": {},
   "outputs": [],
   "source": [
    "import numpy as np\n",
    "import scipy.io as spio\n",
    "import matplotlib.pyplot as plt\n",
    "\n",
    "import os\n",
    "os.chdir(\"../../Databases/SampleData\")\n",
    "\n",
    "sample = spio.loadmat('SampleECG1.mat')\n",
    "data = sample['data']\n",
    "data = data[0]\n",
    "\n",
    "os.chdir(\"../../Python3/Tools\")\n",
    "from KFNotch import KFNotch"
   ]
  },
  {
   "cell_type": "markdown",
   "metadata": {},
   "source": [
    "## Set variables and call function"
   ]
  },
  {
   "cell_type": "code",
   "execution_count": null,
   "metadata": {},
   "outputs": [],
   "source": [
    "fs = 1000\n",
    "f0 = 50\n",
    "\n",
    "n = np.array(range(len(data)))\n",
    "x = 100*data + (.055+.02*np.sin(2*np.pi*n/fs)) * np.sin(2*np.pi*n*f0/fs) / np.std(data)\n",
    "\n",
    "[y1,y2,Pbar,Phat,PSmoothed,Kgain] = KFNotch(x,f0,fs,.001,.1*np.var(x),1)"
   ]
  },
  {
   "cell_type": "markdown",
   "metadata": {},
   "source": [
    "## Plot functions"
   ]
  },
  {
   "cell_type": "code",
   "execution_count": null,
   "metadata": {},
   "outputs": [],
   "source": [
    "t = n/fs\r\n",
    "\r\n",
    "plt.plot(t,data,label = 'original ECG')\r\n",
    "plt.plot(t,x,label = 'noisy ECG')\r\n",
    "plt.plot(t,y1,label = 'Kalman filter')\r\n",
    "plt.plot(t,y2,label = 'Kalman smoother')\r\n",
    "plt.plot(t,np.transpose(Kgain),label = 'Kalman gain')\r\n",
    "plt.xlabel('time (sec.)')\r\n",
    "plt.legend()"
   ]
  },
  {
   "cell_type": "code",
   "execution_count": null,
   "metadata": {},
   "outputs": [],
   "source": [
    "\n",
    "plt.psd(x,int(len(x)/2),fs)\n",
    "plt.title('noisy spectrum')"
   ]
  },
  {
   "cell_type": "code",
   "execution_count": null,
   "metadata": {},
   "outputs": [],
   "source": [
    "plt.psd(y1,int(len(y1)/2),fs)\n",
    "plt.title('Kalman filter output spectrum')"
   ]
  },
  {
   "cell_type": "code",
   "execution_count": null,
   "metadata": {},
   "outputs": [],
   "source": [
    "plt.psd(y2,int(len(y2)/2),fs)\r\n",
    "plt.title('Kalman smoother output spectrum')"
   ]
  },
  {
   "cell_type": "code",
   "execution_count": null,
   "metadata": {},
   "outputs": [],
   "source": [
    "plt.plot(t,Kgain[0,:]-Kgain[1,:])\r\n",
    "plt.title('The Kalman filter gain')"
   ]
  },
  {
   "cell_type": "code",
   "execution_count": null,
   "metadata": {},
   "outputs": [],
   "source": []
  }
 ],
 "metadata": {
  "interpreter": {
   "hash": "fd7d59daf9a77afe7598812da523921418f7bf4de1e7478967922804c97dfa2e"
  },
  "kernelspec": {
   "display_name": "Python 3.6.8 64-bit ('.venv': venv)",
   "name": "python3"
  },
  "language_info": {
   "name": "python",
   "version": ""
  },
  "metadata": {
   "interpreter": {
    "hash": "fd7d59daf9a77afe7598812da523921418f7bf4de1e7478967922804c97dfa2e"
   }
  },
  "orig_nbformat": 2
 },
 "nbformat": 4,
 "nbformat_minor": 2
}