{
 "metadata": {
  "language_info": {
   "codemirror_mode": {
    "name": "ipython",
    "version": 3
   },
   "file_extension": ".py",
   "mimetype": "text/x-python",
   "name": "python",
   "nbconvert_exporter": "python",
   "pygments_lexer": "ipython3",
   "version": "3.6.8"
  },
  "orig_nbformat": 2,
  "kernelspec": {
   "name": "python3",
   "display_name": "Python 3.6.8 64-bit ('.venv': venv)"
  },
  "metadata": {
   "interpreter": {
    "hash": "fd7d59daf9a77afe7598812da523921418f7bf4de1e7478967922804c97dfa2e"
   }
  },
  "interpreter": {
   "hash": "fd7d59daf9a77afe7598812da523921418f7bf4de1e7478967922804c97dfa2e"
  }
 },
 "nbformat": 4,
 "nbformat_minor": 2,
 "cells": [
  {
   "source": [
    "## Import dependencies"
   ],
   "cell_type": "markdown",
   "metadata": {}
  },
  {
   "cell_type": "code",
   "execution_count": null,
   "metadata": {},
   "outputs": [],
   "source": [
    "import numpy as np\n",
    "import scipy.io as spio\n",
    "import matplotlib.pyplot as plt\n",
    "\n",
    "import os\n",
    "os.chdir(\"../../Databases/SampleData\")\n",
    "\n",
    "sample = spio.loadmat('SampleECG1.mat')\n",
    "data = sample['data']\n",
    "data = data[0]\n",
    "\n",
    "os.chdir(\"../../Python3/Tools\")\n",
    "from KFNotch import KFNotch"
   ]
  },
  {
   "source": [
    "## Set variables and call function"
   ],
   "cell_type": "markdown",
   "metadata": {}
  },
  {
   "cell_type": "code",
   "execution_count": null,
   "metadata": {},
   "outputs": [],
   "source": [
    "fs = 1000\n",
    "f0 = 50\n",
    "\n",
    "n = np.array(range(len(data)))\n",
    "x = 100*data + (.055+.02*np.sin(2*np.pi*n/fs)) * np.sin(2*np.pi*n*f0/fs) / np.std(data)\n",
    "\n",
    "[y1,y2,Pbar,Phat,PSmoothed,Kgain] = KFNotch(x,f0,fs,.001,.1*np.var(x),1)"
   ]
  },
  {
   "source": [
    "## Plot functions"
   ],
   "cell_type": "markdown",
   "metadata": {}
  },
  {
   "cell_type": "code",
   "execution_count": null,
   "metadata": {},
   "outputs": [],
   "source": [
    "t = n/fs\n",
    "\n",
    "plt.plot(t,data,label = 'original ECG')\n",
    "plt.plot(t,x,label = 'noisy ECG')\n",
    "plt.plot(t,x-y1,label = 'Kalman filter')\n",
    "plt.plot(t,x-y2,label = 'Kalman smoother')\n",
    "plt.plot(t,np.transpose(Kgain))\n",
    "plt.xlabel('time (sec.)')\n",
    "plt.legend()"
   ]
  },
  {
   "cell_type": "code",
   "execution_count": null,
   "metadata": {},
   "outputs": [],
   "source": [
    "\n",
    "plt.psd(x,int(len(x)/2),fs)\n",
    "plt.title('noisy spectrum')"
   ]
  },
  {
   "cell_type": "code",
   "execution_count": null,
   "metadata": {},
   "outputs": [],
   "source": [
    "plt.psd(y1,int(len(y1)/2),fs)\n",
    "plt.title('Kalman filter output spectrum')"
   ]
  },
  {
   "cell_type": "code",
   "execution_count": null,
   "metadata": {},
   "outputs": [],
   "source": [
    "plt.psd(y2,int(len(y2)/2),fs)\n",
    "plt.title('Kalman filter output spectrum')"
   ]
  },
  {
   "cell_type": "code",
   "execution_count": null,
   "metadata": {},
   "outputs": [],
   "source": [
    "plt.plot(t,Kgain[0,:]-Kgain[1,:])"
   ]
  },
  {
   "cell_type": "code",
   "execution_count": null,
   "metadata": {},
   "outputs": [],
   "source": []
  }
 ]
}