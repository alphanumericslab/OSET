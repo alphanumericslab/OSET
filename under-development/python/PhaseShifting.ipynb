{
 "cells": [
  {
   "cell_type": "code",
   "execution_count": 1,
   "id": "b0133df5",
   "metadata": {},
   "outputs": [],
   "source": [
    "def PhaseShifting(phasein, theta):\n",
    "    phase = phasein + theta;\n",
    "    phase = (phase + np.pi) % 2*np.pi - np.pi;\n",
    "    return phase"
   ]
  }
 ],
 "metadata": {
  "kernelspec": {
   "display_name": "Python 3 (ipykernel)",
   "language": "python",
   "name": "python3"
  },
  "language_info": {
   "codemirror_mode": {
    "name": "ipython",
    "version": 3
   },
   "file_extension": ".py",
   "mimetype": "text/x-python",
   "name": "python",
   "nbconvert_exporter": "python",
   "pygments_lexer": "ipython3",
   "version": "3.7.11"
  }
 },
 "nbformat": 4,
 "nbformat_minor": 5
}
